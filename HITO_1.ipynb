{
  "nbformat": 4,
  "nbformat_minor": 0,
  "metadata": {
    "colab": {
      "provenance": []
    },
    "kernelspec": {
      "name": "python3",
      "display_name": "Python 3"
    },
    "language_info": {
      "name": "python"
    }
  },
  "cells": [
    {
      "cell_type": "markdown",
      "source": [
        "## TUTORIAL COMO ABRIR EL DATA SET\n",
        "Descargar el .csv desde https://www.kaggle.com/datasets/ealtman2019/credit-card-transactions/data\n",
        "y descomprimirlo. \\\n",
        "Correr el pip install y el upload. \\\n",
        "El upload te pedira seleccionar la ubicacion del csv q descargaste, pasele la ubicacion del archivo descomprimido. \\\n",
        "Disfruta\n"
      ],
      "metadata": {
        "id": "T0uI9Fdy916K"
      }
    },
    {
      "cell_type": "code",
      "source": [
        "from google.colab import drive\n",
        "\n",
        "# Mount Google Drive\n",
        "drive.mount('/content/drive/')\n"
      ],
      "metadata": {
        "colab": {
          "base_uri": "https://localhost:8080/"
        },
        "id": "r7jQN1WHfAm0",
        "outputId": "eded14c8-5b94-45aa-dd00-c6ac98e52fa7"
      },
      "execution_count": 12,
      "outputs": [
        {
          "output_type": "stream",
          "name": "stdout",
          "text": [
            "Drive already mounted at /content/drive/; to attempt to forcibly remount, call drive.mount(\"/content/drive/\", force_remount=True).\n"
          ]
        }
      ]
    },
    {
      "cell_type": "code",
      "source": [
        "import os\n",
        "import glob\n",
        "import pandas as pd\n",
        "\n",
        "# Define the folder path correctly (after mounting)\n",
        "folder_path = '/content/drive/My Drive/MINERIA/'\n",
        "\n",
        "# Get a list of all CSV files in the folder\n",
        "csv_files = glob.glob(os.path.join(folder_path, '*.csv'))\n",
        "\n",
        "# Load each CSV file into a list of DataFrames\n",
        "dfs = [pd.read_csv(file) for file in csv_files]\n",
        "\n",
        "# Optionally, display file names and check the dataframes\n",
        "for i, df in enumerate(dfs):\n",
        "    print(f\"File {i+1}: {csv_files[i]}\")\n",
        "    print(df.head())\n"
      ],
      "metadata": {
        "id": "C8zk4hPNie_5"
      },
      "execution_count": null,
      "outputs": []
    },
    {
      "cell_type": "markdown",
      "source": [
        "upload solo el archivo con nombre \"User0_credit_card_transactions\""
      ],
      "metadata": {
        "id": "-8ET3J2POmUU"
      }
    },
    {
      "cell_type": "code",
      "source": [
        "from google.colab import files\n",
        "uploaded = files.upload()\n"
      ],
      "metadata": {
        "id": "4_lGAmea5v8r"
      },
      "execution_count": null,
      "outputs": []
    },
    {
      "cell_type": "code",
      "source": [
        "import pandas as pd\n",
        "\n",
        "df = pd.read_csv('User0_credit_card_transactions.csv') # Nombre default al descomprimir\n",
        "\n",
        "df"
      ],
      "metadata": {
        "id": "eeKx9VXm9fwN"
      },
      "execution_count": null,
      "outputs": []
    },
    {
      "cell_type": "code",
      "source": [
        "df.describe()"
      ],
      "metadata": {
        "id": "nngzt11QZlfa"
      },
      "execution_count": null,
      "outputs": []
    },
    {
      "cell_type": "code",
      "execution_count": null,
      "metadata": {
        "id": "DGKGfSNM2D9a"
      },
      "outputs": [],
      "source": [
        "import pandas as pd\n",
        "import matplotlib.pyplot as plt\n",
        "import numpy as np\n",
        "import seaborn as sns\n",
        "\n",
        "plt.style.use('bmh')"
      ]
    },
    {
      "cell_type": "markdown",
      "source": [
        "## Graficos cagones y sin sentido"
      ],
      "metadata": {
        "id": "mgKGFnJxC7AS"
      }
    },
    {
      "cell_type": "markdown",
      "source": [
        "Agrupamos el dataset por su valor de atributo \"Use Chip\" y visualizamos la primera fila de cada grupo"
      ],
      "metadata": {
        "id": "4w7UU6GUP6n7"
      }
    },
    {
      "cell_type": "code",
      "source": [
        "df_a = df.groupby('Use Chip')\n",
        "df_a.head(1)"
      ],
      "metadata": {
        "id": "-p9fIUf8LiOJ"
      },
      "execution_count": null,
      "outputs": []
    },
    {
      "source": [
        "df_a = df.groupby('Use Chip').size()\n",
        "ax = df_a.plot(kind='barh', color=sns.palettes.mpl_palette('Dark2'))\n",
        "\n",
        "ax.set_title('Transaction Count by Chip Usage Type')\n",
        "\n",
        "plt.gca().spines[['top', 'right',]].set_visible(False)\n"
      ],
      "cell_type": "code",
      "metadata": {
        "id": "ScxeHQZ2MCu0"
      },
      "execution_count": null,
      "outputs": []
    },
    {
      "cell_type": "code",
      "source": [
        "from matplotlib import pyplot as plt\n",
        "import seaborn as sns\n",
        "\n",
        "# Filter the DataFrame to include only rows where \"Is Fraud?\" is \"Yes\"\n",
        "df_a  = df.loc[(df['Is Fraud?']=='Yes')]\n",
        "df_a = df_a.groupby('Use Chip').size()\n",
        "\n",
        "ax = df_a.plot(kind='barh', color=sns.palettes.mpl_palette('Dark2'))\n",
        "\n",
        "ax.set_title('Fraud Count by Chip Usage Type')\n",
        "ax.set_xlabel('Amount of Frauds')\n",
        "\n",
        "plt.gca().spines[['top', 'right',]].set_visible(False)"
      ],
      "metadata": {
        "id": "JFiiEklLCXMJ"
      },
      "execution_count": null,
      "outputs": []
    },
    {
      "cell_type": "code",
      "source": [
        "# chatgpt grafico peor q el mio\n",
        "df['Amount'] = df['Amount'].replace({'\\$': '', ',': ''}, regex=True).astype(float)\n",
        "df_a = df.loc[df['Is Fraud?'] == 'Yes']\n",
        "\n",
        "bins = range(0, int(df_a['Amount'].max()) + 100, 100)\n",
        "\n",
        "df_a['Amount_binned'] = pd.cut(df_a['Amount'], bins=bins)\n",
        "\n",
        "amount_counts = df_a['Amount_binned'].value_counts().sort_index()\n",
        "\n",
        "fig, ax = plt.subplots(figsize=(8, 6))\n",
        "\n",
        "amount_counts.plot(kind='barh', ax=ax)\n",
        "\n",
        "ax.set_title('Fraud Transactions Grouped by Amount ($100 Intervals)')\n",
        "ax.set_xlabel('Number of Transactions')\n",
        "ax.set_ylabel('Amount Binned ($100 Intervals)')\n",
        "\n",
        "plt.show()"
      ],
      "metadata": {
        "id": "7zcxy0p-_zXk"
      },
      "execution_count": null,
      "outputs": []
    },
    {
      "cell_type": "code",
      "source": [
        "df_a = df.loc[(df['Is Fraud?']=='Yes')]\n",
        "\n",
        "fig, ax = plt.subplots(figsize=(6, 8))\n",
        "\n",
        "ax.barh(df_a.Time, df_a['Amount'])\n",
        "\n",
        "ax.set_title('Distribution of Fraudulent Transaction Amounts Throughout the Day')\n",
        "ax.set_xlabel('Amount of money')\n",
        "ax.set_ylabel('Time of the day')\n",
        "\n",
        "plt.show()"
      ],
      "metadata": {
        "id": "VJNJgfK4DLjf"
      },
      "execution_count": null,
      "outputs": []
    }
  ]
}